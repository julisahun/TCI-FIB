{
 "cells": [
  {
   "cell_type": "code",
   "execution_count": 1,
   "metadata": {},
   "outputs": [],
   "source": [
    "import utilsG"
   ]
  },
  {
   "cell_type": "code",
   "execution_count": 2,
   "metadata": {},
   "outputs": [],
   "source": [
    "modulus = 1024\n",
    "f = 0x7c5\n",
    "alpha = 2\n",
    "beta = None"
   ]
  },
  {
   "cell_type": "code",
   "execution_count": 3,
   "metadata": {},
   "outputs": [
    {
     "name": "stdout",
     "output_type": "stream",
     "text": [
      "order alpha =  341\n"
     ]
    }
   ],
   "source": [
    "order = utilsG.ordG(alpha, f)\n",
    "print(\"order alpha = \", order)"
   ]
  },
  {
   "cell_type": "code",
   "execution_count": 4,
   "metadata": {},
   "outputs": [
    {
     "name": "stdout",
     "output_type": "stream",
     "text": [
      "f is primitive =  False\n"
     ]
    }
   ],
   "source": [
    "print(\"f is primitive = \", order == modulus-1)"
   ]
  },
  {
   "cell_type": "code",
   "execution_count": 7,
   "metadata": {},
   "outputs": [
    {
     "name": "stdout",
     "output_type": "stream",
     "text": [
      "order 1 = 1\n",
      "order 2 = 341\n",
      "order 3 = 341\n",
      "order 4 = 341\n",
      "order 5 = 341\n",
      "order 6 = 341\n",
      "order 7 = 1023\n"
     ]
    }
   ],
   "source": [
    "for i in range(1, modulus):\n",
    "    o = utilsG.ordG(i, f)\n",
    "    print(f\"order {i} = {o}\")\n",
    "    if o == modulus-1:\n",
    "        beta = i\n",
    "        break"
   ]
  },
  {
   "cell_type": "code",
   "execution_count": 8,
   "metadata": {},
   "outputs": [
    {
     "data": {
      "text/plain": [
       "276"
      ]
     },
     "execution_count": 8,
     "metadata": {},
     "output_type": "execute_result"
    }
   ],
   "source": [
    "utilsG.logG(beta, alpha, f)"
   ]
  },
  {
   "cell_type": "code",
   "execution_count": 13,
   "metadata": {},
   "outputs": [
    {
     "data": {
      "text/plain": [
       "340"
      ]
     },
     "execution_count": 13,
     "metadata": {},
     "output_type": "execute_result"
    }
   ],
   "source": [
    "utilsG.logG(beta, utilsG.toNum([1, 1, 0, 1, 0, 1, 0, 1, 0, 1][::-1]), f)"
   ]
  },
  {
   "cell_type": "code",
   "execution_count": 21,
   "metadata": {},
   "outputs": [
    {
     "name": "stdout",
     "output_type": "stream",
     "text": [
      "943\n",
      "95\n"
     ]
    }
   ],
   "source": [
    "numerator = utilsG.sum(utilsG.expG(alpha, 80, f), utilsG.expG(beta, 30, f))\n",
    "denominator = utilsG.sum(alpha, utilsG.expG(beta, 3, f))\n",
    "res = utilsG.prodG(numerator, utilsG.invG(denominator, f), f)\n",
    "print(utilsG.logG(beta, res, f))"
   ]
  }
 ],
 "metadata": {
  "kernelspec": {
   "display_name": "Python 3",
   "language": "python",
   "name": "python3"
  },
  "language_info": {
   "codemirror_mode": {
    "name": "ipython",
    "version": 3
   },
   "file_extension": ".py",
   "mimetype": "text/x-python",
   "name": "python",
   "nbconvert_exporter": "python",
   "pygments_lexer": "ipython3",
   "version": "3.11.6"
  }
 },
 "nbformat": 4,
 "nbformat_minor": 2
}
