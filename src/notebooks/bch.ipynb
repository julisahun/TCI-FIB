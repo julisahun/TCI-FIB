{
 "cells": [
  {
   "cell_type": "code",
   "execution_count": 32,
   "metadata": {},
   "outputs": [],
   "source": [
    "import sys\n",
    "sys.path.append('../')\n",
    "import bch\n",
    "import reedSolomon as rs\n",
    "from utilsP import *\n",
    "from utilsG import *"
   ]
  },
  {
   "cell_type": "code",
   "execution_count": 33,
   "metadata": {},
   "outputs": [],
   "source": [
    "def missatgeBCH(polinomi,beta,D,n,modul):\n",
    "    sindrome = bch.sindBCH(polinomi,beta, D,modul)\n",
    "    localitzador = bch.sugiBCH(sindrome,D,modul)\n",
    "    lz = rs.roots(localitzador, modul)\n",
    "    pos0 = [logG(beta, invG(z, modul), modul) for z in lz]\n",
    "    for i in pos0:\n",
    "        polinomi[i] = 1 - polinomi[i]\n",
    "    return divP(polinomi,bch.genBCH(beta, D,modul),modul)[0]"
   ]
  },
  {
   "cell_type": "code",
   "execution_count": 34,
   "metadata": {},
   "outputs": [
    {
     "name": "stdout",
     "output_type": "stream",
     "text": [
      "True\n"
     ]
    }
   ],
   "source": [
    "#D = 40\n",
    "#beta = 2\n",
    "#modul = 285\n",
    "generador = bch.genBCH(2,40,285)\n",
    "missatge = [1,1,1,1,1,1,1,0,0,0,0,0,0]\n",
    "enviat = prodP(missatge,generador,10000000000000000000)\n",
    "enviat[100] =  1 - enviat[100]\n",
    "enviat[55] =  1 - enviat[55]\n",
    "enviat[110] =  1 - enviat[110]\n",
    "enviat[26] =  1 - enviat[26]\n",
    "print(missatgeBCH(enviat, 2, 40, len(enviat), 285) == missatge)"
   ]
  },
  {
   "cell_type": "code",
   "execution_count": 35,
   "metadata": {},
   "outputs": [
    {
     "name": "stdout",
     "output_type": "stream",
     "text": [
      "True\n"
     ]
    }
   ],
   "source": [
    "#D = 15\n",
    "#beta = 111\n",
    "#modul = 285\n",
    "generador = bch.genBCH(111,15,285)\n",
    "missatge = [1,0,1,0,1,0,1,0,1,0,1,0,1]\n",
    "enviat = prodP(missatge,generador,10000000000000000000)\n",
    "enviat[24] =  1 - enviat[24]\n",
    "enviat[15] =  1 - enviat[15]\n",
    "enviat[5] =  1 - enviat[5]\n",
    "print(missatgeBCH(enviat, 111, 15, len(enviat), 285) == missatge)"
   ]
  },
  {
   "cell_type": "code",
   "execution_count": 36,
   "metadata": {},
   "outputs": [],
   "source": [
    "def missatgeRS(polinomi, beta, r, n, modulus):\n",
    "  g = rs.genRS(r, beta, modulus)\n",
    "  syndrome = rs.sindRS(polinomi, beta, r, modulus)\n",
    "  [w, l] = rs.sugiRS(syndrome, r, modulus)\n",
    "  lz = rs.roots(l, modulus)\n",
    "  positions = [logG(beta, invG(z, modulus), modulus) for z in lz]\n",
    "  dl = rs.derivate(l)\n",
    "  e = [0] * n\n",
    "  for (index, position) in enumerate(positions):\n",
    "    wi = rs.subsP(lz[index], w, modulus)\n",
    "    dli = rs.subsP(lz[index], dl, modulus)\n",
    "    e[position] = prodG(wi, invG(dli, modulus),modulus)\n",
    "  corrected = divP(sumP(polinomi, e), [1], modulus)[0]\n",
    "  return divP(corrected, g, modulus)[0]"
   ]
  },
  {
   "cell_type": "code",
   "execution_count": 37,
   "metadata": {},
   "outputs": [
    {
     "name": "stdout",
     "output_type": "stream",
     "text": [
      "True\n"
     ]
    }
   ],
   "source": [
    "r = 10\n",
    "beta = 7\n",
    "modul = 1917\n",
    "generador = rs.genRS(r,beta,modul)\n",
    "original = [1,2,3,4,5,6,7]\n",
    "enviar = prodP(generador,original,10000000000000000000)\n",
    "enviar[0] = enviar[0] + 1\n",
    "print(missatgeRS(enviar, beta, r, len(enviar), modul) == original)"
   ]
  },
  {
   "cell_type": "code",
   "execution_count": 38,
   "metadata": {},
   "outputs": [
    {
     "name": "stdout",
     "output_type": "stream",
     "text": [
      "True\n"
     ]
    }
   ],
   "source": [
    "r = 6\n",
    "beta = 11\n",
    "modul = 1917\n",
    "generador = rs.genRS(r,beta,modul)\n",
    "original = [11,12,13,14]\n",
    "enviar = prodP(generador,original,10000000000000000000)\n",
    "enviar[0] = enviar[0] + 1\n",
    "enviar[2] = enviar[2] + 15\n",
    "print(missatgeRS(enviar, beta, r, len(enviar), modul) == original)"
   ]
  },
  {
   "cell_type": "code",
   "execution_count": 39,
   "metadata": {},
   "outputs": [
    {
     "name": "stdout",
     "output_type": "stream",
     "text": [
      "True\n"
     ]
    }
   ],
   "source": [
    "r = 12\n",
    "beta = 2\n",
    "modul = 2027\n",
    "generador = rs.genRS(r,beta,modul)\n",
    "original = [5,4,5,1,15,33,99]\n",
    "enviar = prodP(generador,original,10000000000000000000)\n",
    "enviar[0] = enviar[0] + 1\n",
    "enviar[5] = enviar[5] - 14\n",
    "enviar[9] = enviar[9] + 66\n",
    "print(missatgeRS(enviar, beta, r, len(enviar), modul) == original)"
   ]
  },
  {
   "cell_type": "code",
   "execution_count": 53,
   "metadata": {},
   "outputs": [
    {
     "name": "stdout",
     "output_type": "stream",
     "text": [
      "[5, 4, 5, 1, 15, 33, 99] [5, 4, 5, 1, 15, 33, 99]\n"
     ]
    },
    {
     "ename": "IndexError",
     "evalue": "list index out of range",
     "output_type": "error",
     "traceback": [
      "\u001b[0;31m---------------------------------------------------------------------------\u001b[0m",
      "\u001b[0;31mIndexError\u001b[0m                                Traceback (most recent call last)",
      "Cell \u001b[0;32mIn[53], line 11\u001b[0m\n\u001b[1;32m      9\u001b[0m \u001b[38;5;66;03m# enviar = prodP(generador,original,10000000000000000000)\u001b[39;00m\n\u001b[1;32m     10\u001b[0m enviar[\u001b[38;5;241m0\u001b[39m] \u001b[38;5;241m=\u001b[39m enviar[\u001b[38;5;241m0\u001b[39m] \u001b[38;5;241m+\u001b[39m \u001b[38;5;241m1\u001b[39m\n\u001b[0;32m---> 11\u001b[0m enviar[\u001b[38;5;241m5\u001b[39m] \u001b[38;5;241m=\u001b[39m \u001b[43menviar\u001b[49m\u001b[43m[\u001b[49m\u001b[38;5;241;43m5\u001b[39;49m\u001b[43m]\u001b[49m \u001b[38;5;241m-\u001b[39m \u001b[38;5;241m14\u001b[39m\n\u001b[1;32m     12\u001b[0m enviar[\u001b[38;5;241m9\u001b[39m] \u001b[38;5;241m=\u001b[39m enviar[\u001b[38;5;241m9\u001b[39m] \u001b[38;5;241m+\u001b[39m \u001b[38;5;241m66\u001b[39m\n\u001b[1;32m     13\u001b[0m \u001b[38;5;28mprint\u001b[39m(missatgeRS(enviar, beta, r, \u001b[38;5;28mlen\u001b[39m(enviar), modul) \u001b[38;5;241m==\u001b[39m original)\n",
      "\u001b[0;31mIndexError\u001b[0m: list index out of range"
     ]
    }
   ],
   "source": [
    "r = 12\n",
    "beta = 2\n",
    "modul = 2027\n",
    "xr = [1] + [0] * r\n",
    "generador = rs.genRS(r,beta,modul)\n",
    "original = [5,4,5,1,15,33,99]\n",
    "enviar = sum_(prodP(original, xr, 10000000000000000),divP(original, generador, modul)[1])\n",
    "print(prodP(xr, original, 10000000000000000000), divP(original, generador, modul)[1])\n",
    "# enviar = prodP(generador,original,10000000000000000000)\n",
    "enviar[0] = enviar[0] + 1\n",
    "enviar[5] = enviar[5] - 14\n",
    "enviar[9] = enviar[9] + 66\n",
    "print(missatgeRS(enviar, beta, r, len(enviar), modul) == original)"
   ]
  },
  {
   "cell_type": "code",
   "execution_count": 40,
   "metadata": {},
   "outputs": [
    {
     "name": "stdout",
     "output_type": "stream",
     "text": [
      "True\n"
     ]
    }
   ],
   "source": [
    "r = 12\n",
    "beta = 11\n",
    "modul = 1961\n",
    "generador = rs.genRS(r,beta,modul)\n",
    "original = [1,6,8,11,55,123,55,99,124,241]\n",
    "enviar = prodP(generador,original,10000000000000000000)\n",
    "enviar[0] = enviar[0] + 1\n",
    "enviar[6] = enviar[6] -15\n",
    "enviar[2] = enviar[2] + 15\n",
    "enviar[7] = enviar[7] + 70\n",
    "print(missatgeRS(enviar, 11, 12, len(enviar), 1961) == original)"
   ]
  }
 ],
 "metadata": {
  "kernelspec": {
   "display_name": "Python 3",
   "language": "python",
   "name": "python3"
  },
  "language_info": {
   "codemirror_mode": {
    "name": "ipython",
    "version": 3
   },
   "file_extension": ".py",
   "mimetype": "text/x-python",
   "name": "python",
   "nbconvert_exporter": "python",
   "pygments_lexer": "ipython3",
   "version": "3.11.4"
  }
 },
 "nbformat": 4,
 "nbformat_minor": 2
}
