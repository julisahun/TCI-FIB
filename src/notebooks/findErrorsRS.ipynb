{
 "cells": [
  {
   "cell_type": "code",
   "execution_count": null,
   "metadata": {},
   "outputs": [],
   "source": [
    "import sys\n",
    "sys.path.append('../')\n",
    "import reedSolomon as rs\n",
    "import utilsG\n",
    "import utilsP"
   ]
  },
  {
   "cell_type": "markdown",
   "metadata": {},
   "source": [
    "### Initial parameters\n"
   ]
  },
  {
   "cell_type": "code",
   "execution_count": null,
   "metadata": {},
   "outputs": [],
   "source": [
    "modulus = 2027\n",
    "beta = 6\n",
    "n = 15\n",
    "k = 5\n",
    "m = [814, 157, 558, 100, 136, 851, 371, 1448, 1010, 888, 540, 786, 1220, 910, 5]"
   ]
  },
  {
   "cell_type": "markdown",
   "metadata": {},
   "source": [
    "### Inferred Parameters\n"
   ]
  },
  {
   "cell_type": "code",
   "execution_count": null,
   "metadata": {},
   "outputs": [],
   "source": [
    "r = n - k\n",
    "g = rs.genRS(r, beta, modulus)\n",
    "xr = [0] * r + [1]"
   ]
  },
  {
   "cell_type": "markdown",
   "metadata": {},
   "source": [
    "### Finding Errors\n"
   ]
  },
  {
   "cell_type": "code",
   "execution_count": null,
   "metadata": {},
   "outputs": [],
   "source": [
    "syndrome = rs.sindRS(m, beta, r, modulus)\n",
    "print(\"Syndrome: \", syndrome)"
   ]
  },
  {
   "cell_type": "code",
   "execution_count": null,
   "metadata": {},
   "outputs": [],
   "source": [
    "[w, l] = rs.sugiRS(syndrome, r, modulus)\n",
    "print(\"Error locator polynomial: \", l)\n",
    "print(\"Error evaluator polynomial: \", w)"
   ]
  },
  {
   "cell_type": "code",
   "execution_count": null,
   "metadata": {},
   "outputs": [],
   "source": [
    "lz = rs.roots(l, modulus)\n",
    "lz"
   ]
  },
  {
   "cell_type": "code",
   "execution_count": null,
   "metadata": {},
   "outputs": [],
   "source": [
    "positions = [utilsG.logG(beta, utilsG.invG(z, modulus), modulus) for z in lz]\n",
    "positions"
   ]
  },
  {
   "cell_type": "code",
   "execution_count": null,
   "metadata": {},
   "outputs": [],
   "source": [
    "dl = rs.derivate(l)"
   ]
  },
  {
   "cell_type": "code",
   "execution_count": null,
   "metadata": {},
   "outputs": [],
   "source": [
    "e = [0] * n\n",
    "for (index, position) in enumerate(positions):\n",
    "  wi = rs.subsP(lz[index], w, modulus)\n",
    "  dli = rs.subsP(lz[index], dl, modulus)\n",
    "  e[position] = utilsG.prodG(wi, utilsG.invG(dli, modulus),modulus)\n",
    "print(\"error: \", e)"
   ]
  },
  {
   "cell_type": "code",
   "execution_count": null,
   "metadata": {},
   "outputs": [],
   "source": [
    "corrected = utilsP.divP(utilsP.sumP(m, e), [1], modulus)[0]\n",
    "corrected"
   ]
  },
  {
   "cell_type": "code",
   "execution_count": null,
   "metadata": {},
   "outputs": [],
   "source": [
    "message_sent = utilsP.divP(corrected, g, modulus)[0]\n",
    "message_sent"
   ]
  },
  {
   "cell_type": "markdown",
   "metadata": {},
   "source": [
    "### Result\n"
   ]
  },
  {
   "cell_type": "code",
   "execution_count": null,
   "metadata": {},
   "outputs": [],
   "source": [
    "print(\"Message sent: \", message_sent)\n",
    "print(\"Message received: \", m)\n",
    "print(\"Error: \", e)\n",
    "print(\"Corrected message: \", corrected)\n",
    "print(\"Syndrome: \", syndrome)\n",
    "print()\n",
    "print(\"Error locator polynomial: \", l)\n",
    "print(\"Error evaluator polynomial: \", w)\n",
    "print(\"Error positions: \", positions)"
   ]
  }
 ],
 "metadata": {
  "kernelspec": {
   "display_name": "Python 3",
   "language": "python",
   "name": "python3"
  },
  "language_info": {
   "codemirror_mode": {
    "name": "ipython",
    "version": 3
   },
   "file_extension": ".py",
   "mimetype": "text/x-python",
   "name": "python",
   "nbconvert_exporter": "python",
   "pygments_lexer": "ipython3",
   "version": "3.11.4"
  }
 },
 "nbformat": 4,
 "nbformat_minor": 2
}
