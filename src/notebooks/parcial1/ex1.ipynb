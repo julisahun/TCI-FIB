{
  "cells": [
    {
      "cell_type": "code",
      "execution_count": 1,
      "metadata": {},
      "outputs": [],
      "source": [
        "import sys\n",
        "sys.path.append('../')"
      ]
    },
    {
      "cell_type": "code",
      "execution_count": 2,
      "metadata": {},
      "outputs": [],
      "source": [
        "import utilsG"
      ]
    },
    {
      "cell_type": "markdown",
      "metadata": {},
      "source": [
        "# Ex 1\n",
        "#### Construim el cos F1024 amb el polinomi binari f(x) = 0x7c5, que és irreductible. Com sempre, denotem per α la classe de x mòdul f(x)."
      ]
    },
    {
      "cell_type": "code",
      "execution_count": 3,
      "metadata": {},
      "outputs": [],
      "source": [
        "modulus = 1024\n",
        "f = 0x7c5\n",
        "alpha = 2\n",
        "beta = None"
      ]
    },
    {
      "cell_type": "markdown",
      "metadata": {},
      "source": [
        "## a) Quin és l’ordre de α?"
      ]
    },
    {
      "cell_type": "code",
      "execution_count": 4,
      "metadata": {},
      "outputs": [
        {
          "name": "stdout",
          "output_type": "stream",
          "text": [
            "order alpha =  341\n"
          ]
        }
      ],
      "source": [
        "order = utilsG.ordG(alpha, f)\n",
        "print(\"order alpha = \", order)"
      ]
    },
    {
      "cell_type": "markdown",
      "metadata": {},
      "source": [
        "## b) f és primitiu?"
      ]
    },
    {
      "cell_type": "code",
      "execution_count": 5,
      "metadata": {},
      "outputs": [
        {
          "name": "stdout",
          "output_type": "stream",
          "text": [
            "f is primitive =  False\n"
          ]
        }
      ],
      "source": [
        "print(\"f is primitive = \", order == modulus-1)"
      ]
    },
    {
      "cell_type": "markdown",
      "metadata": {},
      "source": [
        "## c) . Escribiu l’ordre dels elements del cos 2, 3, 4, ... fins a trobar el primer element primitiu, que anomenarem β. Qui és β?"
      ]
    },
    {
      "cell_type": "code",
      "execution_count": 29,
      "metadata": {},
      "outputs": [
        {
          "name": "stdout",
          "output_type": "stream",
          "text": [
            "order 1 = 1\n",
            "order 2 = 341\n",
            "order 3 = 341\n",
            "order 4 = 341\n",
            "order 5 = 341\n",
            "order 6 = 341\n",
            "order 7 = 1023\n",
            "beta =  7\n"
          ]
        }
      ],
      "source": [
        "for i in range(1, modulus):\n",
        "    o = utilsG.ordG(i, f)\n",
        "    print(f\"order {i} = {o}\")\n",
        "    if o == modulus-1:\n",
        "        beta = i\n",
        "        break\n",
        "print(\"beta = \", beta)"
      ]
    },
    {
      "cell_type": "markdown",
      "metadata": {},
      "source": [
        "## d) Expresseu α com a potència de β."
      ]
    },
    {
      "cell_type": "code",
      "execution_count": 7,
      "metadata": {},
      "outputs": [
        {
          "data": {
            "text/plain": [
              "276"
            ]
          },
          "execution_count": 7,
          "metadata": {},
          "output_type": "execute_result"
        }
      ],
      "source": [
        "utilsG.logG(beta, alpha, f)"
      ]
    },
    {
      "cell_type": "markdown",
      "metadata": {},
      "source": [
        "## e) Calculeu logβ(1 + α + α3 + α5 + α7 + α9)."
      ]
    },
    {
      "cell_type": "code",
      "execution_count": 8,
      "metadata": {},
      "outputs": [
        {
          "data": {
            "text/plain": [
              "340"
            ]
          },
          "execution_count": 8,
          "metadata": {},
          "output_type": "execute_result"
        }
      ],
      "source": [
        "utilsG.logG(beta, utilsG.toNum([1, 1, 0, 1, 0, 1, 0, 1, 0, 1][::-1]), f)"
      ]
    },
    {
      "cell_type": "markdown",
      "metadata": {},
      "source": [
        "## f) Calculeu (α80 + β30)/(α + β3). Expresseu-lo com a potència de β."
      ]
    },
    {
      "cell_type": "code",
      "execution_count": 9,
      "metadata": {},
      "outputs": [
        {
          "name": "stdout",
          "output_type": "stream",
          "text": [
            "95\n"
          ]
        }
      ],
      "source": [
        "numerator = utilsG.sum(utilsG.expG(alpha, 80, f), utilsG.expG(beta, 30, f))\n",
        "denominator = utilsG.sum(alpha, utilsG.expG(beta, 3, f))\n",
        "res = utilsG.prodG(numerator, utilsG.invG(denominator, f), f)\n",
        "print(utilsG.logG(beta, res, f))"
      ]
    },
    {
      "cell_type": "markdown",
      "metadata": {},
      "source": [
        "## g) Calculeu (α + β)^−400. Expresseu-lo com a potència de β."
      ]
    },
    {
      "cell_type": "code",
      "execution_count": 32,
      "metadata": {},
      "outputs": [
        {
          "name": "stdout",
          "output_type": "stream",
          "text": [
            "609\n"
          ]
        }
      ],
      "source": [
        "res = utilsG.invG(utilsG.expG(utilsG.sum(alpha, beta),400,f),f)\n",
        "print(utilsG.logG(beta, res, f))"
      ]
    }
  ],
  "metadata": {
    "kernelspec": {
      "display_name": "Python 3",
      "language": "python",
      "name": "python3"
    },
    "language_info": {
      "codemirror_mode": {
        "name": "ipython",
        "version": 3
      },
      "file_extension": ".py",
      "mimetype": "text/x-python",
      "name": "python",
      "nbconvert_exporter": "python",
      "pygments_lexer": "ipython3",
      "version": "3.11.4"
    }
  },
  "nbformat": 4,
  "nbformat_minor": 2
}
