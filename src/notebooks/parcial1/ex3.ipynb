{
 "cells": [
  {
   "cell_type": "code",
   "execution_count": 46,
   "metadata": {},
   "outputs": [],
   "source": [
    "import sys \n",
    "sys.path.append('../../')\n",
    "import utilsG"
   ]
  },
  {
   "cell_type": "markdown",
   "metadata": {},
   "source": [
    "# Ex3 \n",
    "#### Considerem el codi binari polinomial Cg,n amb g = 0x76113 i n = 28. Sabem que té distància mínima 9."
   ]
  },
  {
   "cell_type": "code",
   "execution_count": 47,
   "metadata": {},
   "outputs": [],
   "source": [
    "n = 28\n",
    "d = 9\n",
    "g = 0x76113"
   ]
  },
  {
   "cell_type": "markdown",
   "metadata": {},
   "source": [
    "## a) Quins paràmetres té?"
   ]
  },
  {
   "cell_type": "code",
   "execution_count": 48,
   "metadata": {},
   "outputs": [
    {
     "name": "stdout",
     "output_type": "stream",
     "text": [
      "r = 18 \t k = 10 \t n = 28 \t d = 9\n"
     ]
    }
   ],
   "source": [
    "r = len(utilsG.toPoly(g)) - 1\n",
    "k = n-r\n",
    "print(f\"r = {r} \\t k = {k} \\t n = {n} \\t d = {d}\")"
   ]
  },
  {
   "cell_type": "markdown",
   "metadata": {},
   "source": [
    "## b) Quina taxa de transmissió té?"
   ]
  },
  {
   "cell_type": "code",
   "execution_count": 49,
   "metadata": {},
   "outputs": [
    {
     "name": "stdout",
     "output_type": "stream",
     "text": [
      "Transmission ratio = 0.35714285714285715\n"
     ]
    }
   ],
   "source": [
    "transmission_ratio = k/n\n",
    "print(f\"Transmission ratio = {transmission_ratio}\")"
   ]
  },
  {
   "cell_type": "markdown",
   "metadata": {},
   "source": [
    "## c) quants errors pot corregir? I detectar? Quants esborralls pot corregir?"
   ]
  },
  {
   "cell_type": "code",
   "execution_count": 50,
   "metadata": {},
   "outputs": [
    {
     "name": "stdout",
     "output_type": "stream",
     "text": [
      "Detectable errors = 8\n",
      "Correctable errors = 4\n",
      "Correctable scraps = 8\n"
     ]
    }
   ],
   "source": [
    "detectable_errors = d-1\n",
    "print(f\"Detectable errors = {detectable_errors}\")\n",
    "correctable_errors = (d-1)//2\n",
    "print(f\"Correctable errors = {correctable_errors}\")\n",
    "correctable_scraps = d-1\n",
    "print(f\"Correctable scraps = {correctable_scraps}\")"
   ]
  },
  {
   "cell_type": "markdown",
   "metadata": {},
   "source": [
    "## d) . Codifiqueu el missatge m = 0b1111111111 amb la codificació que consisteix a multiplicar per g."
   ]
  },
  {
   "cell_type": "code",
   "execution_count": 51,
   "metadata": {},
   "outputs": [
    {
     "name": "stdout",
     "output_type": "stream",
     "text": [
      "m = 1023 \t encoded_m = 192865521\n"
     ]
    }
   ],
   "source": [
    "m = 0b1111111111\n",
    "encoded_m = utilsG.prod(m, g)\n",
    "print(f\"m = {m} \\t encoded_m = {encoded_m}\")"
   ]
  },
  {
   "cell_type": "markdown",
   "metadata": {},
   "source": [
    "## e) Han codificat un missatge mitjançant la codificació anterior i hem rebut r = 0x1451683. Quin missatge ens han enviat?"
   ]
  },
  {
   "cell_type": "code",
   "execution_count": 52,
   "metadata": {},
   "outputs": [
    {
     "name": "stdout",
     "output_type": "stream",
     "text": [
      "r = 18 \t decoded_m = 113\n"
     ]
    }
   ],
   "source": [
    "received = 0x1451683\n",
    "decoded_m = utilsG.div(received, g)[0]\n",
    "print(f\"r = {r} \\t decoded_m = {decoded_m}\")"
   ]
  },
  {
   "cell_type": "markdown",
   "metadata": {},
   "source": [
    "## f) Codifiqueu mitjançant la codificació sistemàtica el missatges m = 1010101010"
   ]
  },
  {
   "cell_type": "code",
   "execution_count": 53,
   "metadata": {},
   "outputs": [
    {
     "name": "stdout",
     "output_type": "stream",
     "text": [
      "m = 682 \t encoded_m = 178807319\n"
     ]
    }
   ],
   "source": [
    "m = 0b1010101010\n",
    "xr = utilsG.toNum([1]+[0]*18)\n",
    "mxr = utilsG.prod(m, xr)\n",
    "ax = utilsG.div(mxr, g)[1]\n",
    "encoded_m = utilsG.sum(mxr, ax)\n",
    "print(f\"m = {m} \\t encoded_m = {encoded_m}\")"
   ]
  },
  {
   "cell_type": "markdown",
   "metadata": {},
   "source": [
    "## g) Han codificat, mitjançant la codificació sistemàtica, un missatge i hem rebut 0x6d5a3af. Hi ha hagut errors? Quin era el missatge?"
   ]
  },
  {
   "cell_type": "code",
   "execution_count": 60,
   "metadata": {},
   "outputs": [
    {
     "name": "stdout",
     "output_type": "stream",
     "text": [
      "Has errors: False\n",
      "original message: 111976\n"
     ]
    }
   ],
   "source": [
    "received = 0x6d5a3af\n",
    "errors = utilsG.div(received, g)[1]\n",
    "print(f\"Has errors: {errors != 0}\")\n",
    "m = received // 1024\n",
    "print(f\"original message: {m}\")"
   ]
  },
  {
   "cell_type": "markdown",
   "metadata": {},
   "source": [
    "## h) Hem rebut 0x8b6be47. Dieu si hi ha errors i quins són els errors."
   ]
  },
  {
   "cell_type": "code",
   "execution_count": 61,
   "metadata": {},
   "outputs": [
    {
     "name": "stdout",
     "output_type": "stream",
     "text": [
      "Has errors: True\n",
      "[1, 0, 0, 0, 0, 0]\n",
      "error a la posicio 6\n",
      "original message: 142767\n"
     ]
    }
   ],
   "source": [
    "received = 0x8b6be47\n",
    "errors = utilsG.div(received, g)[1]\n",
    "print(f\"Has errors: {errors != 0}\")\n",
    "print(utilsG.toPoly(errors))\n",
    "print(\"error a la posicio 6\")\n",
    "# print(f\"original message: {utilsG.sum(received, errors)//1024}\") crec"
   ]
  },
  {
   "cell_type": "markdown",
   "metadata": {},
   "source": [
    "## i) Hem rebut 0xa3bf073. Dieu quins són els errors."
   ]
  },
  {
   "cell_type": "code",
   "execution_count": 58,
   "metadata": {},
   "outputs": [
    {
     "name": "stdout",
     "output_type": "stream",
     "text": [
      "Has errors: True\n",
      "[1, 0, 0, 0, 0, 0, 0, 0, 0, 1]\n",
      "error a la posicio 1 i 10\n"
     ]
    }
   ],
   "source": [
    "received = 0xa3bf073\n",
    "errors = utilsG.div(received, g)[1]\n",
    "print(f\"Has errors: {errors != 0}\")\n",
    "print(utilsG.toPoly(errors))\n",
    "print(\"error a la posicio 1 i 10\")"
   ]
  }
 ],
 "metadata": {
  "kernelspec": {
   "display_name": "Python 3",
   "language": "python",
   "name": "python3"
  },
  "language_info": {
   "codemirror_mode": {
    "name": "ipython",
    "version": 3
   },
   "file_extension": ".py",
   "mimetype": "text/x-python",
   "name": "python",
   "nbconvert_exporter": "python",
   "pygments_lexer": "ipython3",
   "version": "3.11.4"
  }
 },
 "nbformat": 4,
 "nbformat_minor": 2
}
