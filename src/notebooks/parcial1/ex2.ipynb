{
  "cells": [
    {
      "cell_type": "code",
      "execution_count": 2,
      "metadata": {},
      "outputs": [],
      "source": [
        "import sys \n",
        "sys.path.append('../../')\n",
        "import utilsG"
      ]
    },
    {
      "cell_type": "markdown",
      "metadata": {},
      "source": [
        "# Ex 2 \n",
        "#### Considrem el polinomi binari g(x) = x10 + x8 + x5 + x4 + x2 + x + 1 \n",
        "#### i el codi Cg,13."
      ]
    },
    {
      "cell_type": "code",
      "execution_count": 3,
      "metadata": {},
      "outputs": [],
      "source": [
        "g = [1, 0, 1, 0, 0, 1, 1, 0, 1, 1, 1] \n",
        "  # x10 + x8   +   x5+x4  + x2+ x+ 1"
      ]
    },
    {
      "cell_type": "markdown",
      "metadata": {},
      "source": [
        "## a) Doneu els paràmetres del codi (sense la distància mínima)"
      ]
    },
    {
      "cell_type": "markdown",
      "metadata": {},
      "source": [
        "Parametres d'un codi polinomial C amb polinomi g i longitud n:\n",
        "  * Longitud(n): n\n",
        "  * Redundancia(r): grau(g)\n",
        "  * Dimensio(k): n - r"
      ]
    },
    {
      "cell_type": "code",
      "execution_count": 4,
      "metadata": {},
      "outputs": [
        {
          "name": "stdout",
          "output_type": "stream",
          "text": [
            "n = 13, r = 10, k = 3\n"
          ]
        }
      ],
      "source": [
        "n = 13 # enunciat\n",
        "r = len(g)-1\n",
        "k = n-r\n",
        "print(f\"n = {n}, r = {r}, k = {k}\")"
      ]
    },
    {
      "cell_type": "markdown",
      "metadata": {},
      "source": [
        "## b) Calculeu la matriu generadora sistemàtica"
      ]
    },
    {
      "cell_type": "code",
      "execution_count": 5,
      "metadata": {},
      "outputs": [
        {
          "name": "stdout",
          "output_type": "stream",
          "text": [
            "[1, 1, 1, 0, 1, 1, 0, 0, 1, 0]\n",
            "[0, 1, 1, 1, 0, 1, 1, 0, 0, 1]\n",
            "[1, 1, 0, 1, 0, 1, 1, 1, 1, 0]\n"
          ]
        }
      ],
      "source": [
        "G = []\n",
        "for i in range(r, n):\n",
        "  xi = [1] + [0]*i\n",
        "  G.append(utilsG.toPoly(utilsG.div(xi, g)[1], r)[::-1])\n",
        "for row in G:\n",
        "  print(row)"
      ]
    },
    {
      "cell_type": "markdown",
      "metadata": {},
      "source": [
        "## c) Calculeu una matriu de control."
      ]
    },
    {
      "cell_type": "code",
      "execution_count": 6,
      "metadata": {},
      "outputs": [
        {
          "name": "stdout",
          "output_type": "stream",
          "text": [
            "[1, 0, 0, 0, 0, 0, 0, 0, 0, 0, 1, 0, 1]\n",
            "[0, 1, 0, 0, 0, 0, 0, 0, 0, 0, 1, 1, 1]\n",
            "[0, 0, 1, 0, 0, 0, 0, 0, 0, 0, 1, 1, 0]\n",
            "[0, 0, 0, 1, 0, 0, 0, 0, 0, 0, 0, 1, 1]\n",
            "[0, 0, 0, 0, 1, 0, 0, 0, 0, 0, 1, 0, 0]\n",
            "[0, 0, 0, 0, 0, 1, 0, 0, 0, 0, 1, 1, 1]\n",
            "[0, 0, 0, 0, 0, 0, 1, 0, 0, 0, 0, 1, 1]\n",
            "[0, 0, 0, 0, 0, 0, 0, 1, 0, 0, 0, 0, 1]\n",
            "[0, 0, 0, 0, 0, 0, 0, 0, 1, 0, 1, 0, 1]\n",
            "[0, 0, 0, 0, 0, 0, 0, 0, 0, 1, 0, 1, 0]\n"
          ]
        }
      ],
      "source": [
        "H = []\n",
        "Ik = utilsG.genI(r)\n",
        "for (index,Irow) in enumerate(Ik):\n",
        "  row = Irow + [G[i][index] for i in range(k)]\n",
        "  H.append(row)\n",
        "for row in H:\n",
        "  print(row)  \n"
      ]
    },
    {
      "cell_type": "markdown",
      "metadata": {},
      "source": [
        "## d) Calculeu la distància mínima del codi"
      ]
    },
    {
      "cell_type": "code",
      "execution_count": 7,
      "metadata": {},
      "outputs": [],
      "source": [
        "def dist_min(matrix, n):\n",
        "    matrix = [[matrix[j][i] for j in range(len(matrix))] for i in range(len(matrix[0]))] # transpose\n",
        "    matrix = list(map(lambda x: utilsG.toNum(x), matrix)) # convert to numbers\n",
        "    for i in range (1, n + 1):\n",
        "        if (dist_min2(matrix,i,0,0) == True):\n",
        "            return i\n",
        "    return -1\n",
        "\n",
        "def dist_min2(matrix,n,n2, current_val):\n",
        "    if (n > 0):\n",
        "        a = False\n",
        "        for i in range (n2, len(matrix)):\n",
        "            a = a or dist_min2(matrix,n - 1, i + 1, current_val ^ matrix[i])\n",
        "        return a\n",
        "    else:\n",
        "        return (current_val == 0)\n"
      ]
    },
    {
      "cell_type": "code",
      "execution_count": 14,
      "metadata": {},
      "outputs": [
        {
          "data": {
            "text/plain": [
              "7"
            ]
          },
          "execution_count": 14,
          "metadata": {},
          "output_type": "execute_result"
        }
      ],
      "source": [
        "dist_min(H, 13)"
      ]
    },
    {
      "cell_type": "markdown",
      "metadata": {},
      "source": [
        "## e) Quin és l’ordre del polinomi g?"
      ]
    },
    {
      "cell_type": "code",
      "execution_count": 9,
      "metadata": {},
      "outputs": [
        {
          "data": {
            "text/plain": [
              "15"
            ]
          },
          "execution_count": 9,
          "metadata": {},
          "output_type": "execute_result"
        }
      ],
      "source": [
        "utilsG.ordG(2, g)"
      ]
    },
    {
      "cell_type": "markdown",
      "metadata": {},
      "source": [
        "## f) quina és la distància mínima de Cg,20?"
      ]
    },
    {
      "cell_type": "code",
      "execution_count": 10,
      "metadata": {},
      "outputs": [
        {
          "data": {
            "text/plain": [
              "2"
            ]
          },
          "execution_count": 10,
          "metadata": {},
          "output_type": "execute_result"
        }
      ],
      "source": [
        "2 # perque 20 > 15"
      ]
    }
  ],
  "metadata": {
    "kernelspec": {
      "display_name": "Python 3",
      "language": "python",
      "name": "python3"
    },
    "language_info": {
      "codemirror_mode": {
        "name": "ipython",
        "version": 3
      },
      "file_extension": ".py",
      "mimetype": "text/x-python",
      "name": "python",
      "nbconvert_exporter": "python",
      "pygments_lexer": "ipython3",
      "version": "3.11.4"
    }
  },
  "nbformat": 4,
  "nbformat_minor": 2
}
