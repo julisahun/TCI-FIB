{
 "cells": [
  {
   "cell_type": "code",
   "execution_count": 13,
   "metadata": {},
   "outputs": [],
   "source": [
    "import reedSolomon as rs\n",
    "import utilsG\n",
    "import utilsP"
   ]
  },
  {
   "cell_type": "code",
   "execution_count": 14,
   "metadata": {},
   "outputs": [],
   "source": [
    "modulus = 2027\n",
    "beta = 6\n",
    "n = 15\n",
    "k = 5\n",
    "r = n - k\n",
    "xr = [0] * r + [1]\n",
    "m = [814, 157, 558, 100, 136, 851, 371, 1448, 1010, 888, 540, 786, 1220, 910, 5]"
   ]
  },
  {
   "cell_type": "code",
   "execution_count": 15,
   "metadata": {},
   "outputs": [
    {
     "name": "stdout",
     "output_type": "stream",
     "text": [
      "Syndrome:  [327, 118, 32, 899, 455, 419, 184, 806, 23, 115]\n"
     ]
    }
   ],
   "source": [
    "syndrome = rs.sindRS(m, beta, r, modulus)\n",
    "print(\"Syndrome: \", syndrome)"
   ]
  },
  {
   "cell_type": "code",
   "execution_count": 16,
   "metadata": {},
   "outputs": [
    {
     "name": "stdout",
     "output_type": "stream",
     "text": [
      "Error locator polynomial:  [333, 343, 639, 45]\n",
      "Error evaluator polynomial:  [175, 890, 48]\n"
     ]
    }
   ],
   "source": [
    "[w, l] = rs.sugiRS(syndrome, r, modulus)\n",
    "print(\"Error locator polynomial: \", l)\n",
    "print(\"Error evaluator polynomial: \", w)"
   ]
  },
  {
   "cell_type": "code",
   "execution_count": 17,
   "metadata": {},
   "outputs": [
    {
     "data": {
      "text/plain": [
       "[213, 339, 820]"
      ]
     },
     "execution_count": 17,
     "metadata": {},
     "output_type": "execute_result"
    }
   ],
   "source": [
    "lz = rs.roots(l, modulus)\n",
    "lz"
   ]
  },
  {
   "cell_type": "code",
   "execution_count": 18,
   "metadata": {},
   "outputs": [
    {
     "data": {
      "text/plain": [
       "[12, 1, 7]"
      ]
     },
     "execution_count": 18,
     "metadata": {},
     "output_type": "execute_result"
    }
   ],
   "source": [
    "positions = [utilsG.logG(beta, utilsG.invG(z, modulus), modulus) for z in lz]\n",
    "positions"
   ]
  },
  {
   "cell_type": "code",
   "execution_count": 19,
   "metadata": {},
   "outputs": [],
   "source": [
    "dl = rs.derivate(l)"
   ]
  },
  {
   "cell_type": "code",
   "execution_count": 20,
   "metadata": {},
   "outputs": [
    {
     "name": "stdout",
     "output_type": "stream",
     "text": [
      "error:  [0, 427, 0, 0, 0, 0, 0, 34, 0, 0, 0, 0, 881, 0, 0]\n"
     ]
    }
   ],
   "source": [
    "e = [0] * n\n",
    "for (index, position) in enumerate(positions):\n",
    "  wi = rs.subsP(lz[index], w, modulus)\n",
    "  dli = rs.subsP(lz[index], dl, modulus)\n",
    "  e[position] = utilsG.prodG(wi, utilsG.invG(dli, modulus),modulus)\n",
    "print(\"error: \", e)"
   ]
  },
  {
   "cell_type": "code",
   "execution_count": 21,
   "metadata": {},
   "outputs": [
    {
     "data": {
      "text/plain": [
       "[814, 310, 558, 100, 136, 851, 371, 1418, 1010, 888, 540, 786, 1973, 910, 5]"
      ]
     },
     "execution_count": 21,
     "metadata": {},
     "output_type": "execute_result"
    }
   ],
   "source": [
    "message_sent = utilsP.sumP(m, e)\n",
    "message_sent"
   ]
  }
 ],
 "metadata": {
  "kernelspec": {
   "display_name": "Python 3",
   "language": "python",
   "name": "python3"
  },
  "language_info": {
   "codemirror_mode": {
    "name": "ipython",
    "version": 3
   },
   "file_extension": ".py",
   "mimetype": "text/x-python",
   "name": "python",
   "nbconvert_exporter": "python",
   "pygments_lexer": "ipython3",
   "version": "3.11.4"
  }
 },
 "nbformat": 4,
 "nbformat_minor": 2
}
