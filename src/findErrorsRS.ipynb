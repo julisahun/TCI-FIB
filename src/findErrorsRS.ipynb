{
 "cells": [
  {
   "cell_type": "code",
   "execution_count": 1,
   "metadata": {},
   "outputs": [],
   "source": [
    "import reedSolomon as rs\n",
    "import utilsG"
   ]
  },
  {
   "cell_type": "code",
   "execution_count": 2,
   "metadata": {},
   "outputs": [],
   "source": [
    "modulus = 2027\n",
    "beta = 6\n",
    "n = 15\n",
    "k = 5\n",
    "r = n - k\n",
    "xr = [0] * r + [1]\n",
    "m = [814, 157, 558, 100, 136, 851, 371, 1448, 1010, 888, 540, 786, 1220, 910, 5]"
   ]
  },
  {
   "cell_type": "code",
   "execution_count": 3,
   "metadata": {},
   "outputs": [
    {
     "name": "stdout",
     "output_type": "stream",
     "text": [
      "Syndrome:  [327, 118, 32, 899, 455, 419, 184, 806, 23, 115]\n"
     ]
    }
   ],
   "source": [
    "syndrome = rs.sindRS(m, beta, r, modulus)\n",
    "print(\"Syndrome: \", syndrome)"
   ]
  },
  {
   "cell_type": "code",
   "execution_count": 4,
   "metadata": {},
   "outputs": [
    {
     "name": "stdout",
     "output_type": "stream",
     "text": [
      "Error locator polynomial:  [333, 343, 639, 45]\n",
      "Error evaluator polynomial:  [175, 890, 48]\n"
     ]
    }
   ],
   "source": [
    "[w, l] = rs.sugiRS(syndrome, r, modulus)\n",
    "print(\"Error locator polynomial: \", l)\n",
    "print(\"Error evaluator polynomial: \", w)"
   ]
  },
  {
   "cell_type": "code",
   "execution_count": 5,
   "metadata": {},
   "outputs": [],
   "source": [
    "lz = rs.roots(l, modulus)"
   ]
  },
  {
   "cell_type": "code",
   "execution_count": 6,
   "metadata": {},
   "outputs": [
    {
     "data": {
      "text/plain": [
       "[213, 339, 820, 1247, 1720, 1854]"
      ]
     },
     "execution_count": 6,
     "metadata": {},
     "output_type": "execute_result"
    }
   ],
   "source": [
    "lz"
   ]
  },
  {
   "cell_type": "code",
   "execution_count": 13,
   "metadata": {},
   "outputs": [
    {
     "ename": "KeyboardInterrupt",
     "evalue": "",
     "output_type": "error",
     "traceback": [
      "\u001b[0;31m---------------------------------------------------------------------------\u001b[0m",
      "\u001b[0;31mKeyboardInterrupt\u001b[0m                         Traceback (most recent call last)",
      "\u001b[1;32m/Users/julisahun/Documents/uni/TCI/src/findErrorsRS.ipynb Cell 7\u001b[0m line \u001b[0;36m1\n\u001b[0;32m----> <a href='vscode-notebook-cell:/Users/julisahun/Documents/uni/TCI/src/findErrorsRS.ipynb#W5sZmlsZQ%3D%3D?line=0'>1</a>\u001b[0m positions \u001b[39m=\u001b[39m [utilsG\u001b[39m.\u001b[39;49mlogG(z, beta, modulus) \u001b[39mfor\u001b[39;49;00m z \u001b[39min\u001b[39;49;00m lz] \u001b[39m# ??\u001b[39;00m\n",
      "\u001b[1;32m/Users/julisahun/Documents/uni/TCI/src/findErrorsRS.ipynb Cell 7\u001b[0m line \u001b[0;36m1\n\u001b[0;32m----> <a href='vscode-notebook-cell:/Users/julisahun/Documents/uni/TCI/src/findErrorsRS.ipynb#W5sZmlsZQ%3D%3D?line=0'>1</a>\u001b[0m positions \u001b[39m=\u001b[39m [utilsG\u001b[39m.\u001b[39;49mlogG(z, beta, modulus) \u001b[39mfor\u001b[39;00m z \u001b[39min\u001b[39;00m lz] \u001b[39m# ??\u001b[39;00m\n",
      "File \u001b[0;32m~/Documents/uni/TCI/src/utilsG.py:162\u001b[0m, in \u001b[0;36mlogG\u001b[0;34m(a, b, g)\u001b[0m\n\u001b[1;32m    161\u001b[0m \u001b[39mdef\u001b[39;00m \u001b[39mlogG\u001b[39m(a, b, g):\n\u001b[0;32m--> 162\u001b[0m     \u001b[39mreturn\u001b[39;00m toNum(logG_(a, b, g))\n",
      "File \u001b[0;32m~/Documents/uni/TCI/src/utilsG.py:37\u001b[0m, in \u001b[0;36mproxy.<locals>.wrapper\u001b[0;34m(*args)\u001b[0m\n\u001b[1;32m     35\u001b[0m \u001b[39mdef\u001b[39;00m \u001b[39mwrapper\u001b[39m(\u001b[39m*\u001b[39margs):\n\u001b[1;32m     36\u001b[0m     args \u001b[39m=\u001b[39m \u001b[39mlist\u001b[39m(\u001b[39mmap\u001b[39m(\u001b[39mlambda\u001b[39;00m x: toPoly(deepcopy(x)), args))\n\u001b[0;32m---> 37\u001b[0m     \u001b[39mreturn\u001b[39;00m func(\u001b[39m*\u001b[39;49margs)\n",
      "File \u001b[0;32m~/Documents/uni/TCI/src/utilsG.py:129\u001b[0m, in \u001b[0;36mlogG_\u001b[0;34m(a, b, g)\u001b[0m\n\u001b[1;32m    126\u001b[0m \u001b[39m@proxy\u001b[39m\n\u001b[1;32m    127\u001b[0m \u001b[39mdef\u001b[39;00m \u001b[39mlogG_\u001b[39m(a, b, g):\n\u001b[1;32m    128\u001b[0m     i \u001b[39m=\u001b[39m \u001b[39m1\u001b[39m\n\u001b[0;32m--> 129\u001b[0m     \u001b[39mwhile\u001b[39;00m expG_(a, i, g) \u001b[39m!=\u001b[39m div_(b, g)[\u001b[39m1\u001b[39m]:\n\u001b[1;32m    130\u001b[0m         i \u001b[39m+\u001b[39m\u001b[39m=\u001b[39m \u001b[39m1\u001b[39m\n\u001b[1;32m    131\u001b[0m     \u001b[39mreturn\u001b[39;00m i\n",
      "File \u001b[0;32m~/Documents/uni/TCI/src/utilsG.py:114\u001b[0m, in \u001b[0;36mexpG_\u001b[0;34m(a, n, g)\u001b[0m\n\u001b[1;32m    112\u001b[0m     \u001b[39mreturn\u001b[39;00m a\n\u001b[1;32m    113\u001b[0m \u001b[39mif\u001b[39;00m n \u001b[39m%\u001b[39m \u001b[39m2\u001b[39m \u001b[39m==\u001b[39m \u001b[39m0\u001b[39m:\n\u001b[0;32m--> 114\u001b[0m     \u001b[39mreturn\u001b[39;00m prodG_(expG_(a, n \u001b[39m/\u001b[39m\u001b[39m/\u001b[39m \u001b[39m2\u001b[39m, g), expG_(a, n \u001b[39m/\u001b[39;49m\u001b[39m/\u001b[39;49m \u001b[39m2\u001b[39;49m, g), g)\n\u001b[1;32m    115\u001b[0m \u001b[39melse\u001b[39;00m:\n\u001b[1;32m    116\u001b[0m     \u001b[39mreturn\u001b[39;00m prodG_(a, expG_(a, n \u001b[39m-\u001b[39m \u001b[39m1\u001b[39m, g), g)\n",
      "File \u001b[0;32m~/Documents/uni/TCI/src/utilsG.py:116\u001b[0m, in \u001b[0;36mexpG_\u001b[0;34m(a, n, g)\u001b[0m\n\u001b[1;32m    114\u001b[0m     \u001b[39mreturn\u001b[39;00m prodG_(expG_(a, n \u001b[39m/\u001b[39m\u001b[39m/\u001b[39m \u001b[39m2\u001b[39m, g), expG_(a, n \u001b[39m/\u001b[39m\u001b[39m/\u001b[39m \u001b[39m2\u001b[39m, g), g)\n\u001b[1;32m    115\u001b[0m \u001b[39melse\u001b[39;00m:\n\u001b[0;32m--> 116\u001b[0m     \u001b[39mreturn\u001b[39;00m prodG_(a, expG_(a, n \u001b[39m-\u001b[39;49m \u001b[39m1\u001b[39;49m, g), g)\n",
      "File \u001b[0;32m~/Documents/uni/TCI/src/utilsG.py:114\u001b[0m, in \u001b[0;36mexpG_\u001b[0;34m(a, n, g)\u001b[0m\n\u001b[1;32m    112\u001b[0m     \u001b[39mreturn\u001b[39;00m a\n\u001b[1;32m    113\u001b[0m \u001b[39mif\u001b[39;00m n \u001b[39m%\u001b[39m \u001b[39m2\u001b[39m \u001b[39m==\u001b[39m \u001b[39m0\u001b[39m:\n\u001b[0;32m--> 114\u001b[0m     \u001b[39mreturn\u001b[39;00m prodG_(expG_(a, n \u001b[39m/\u001b[39m\u001b[39m/\u001b[39m \u001b[39m2\u001b[39m, g), expG_(a, n \u001b[39m/\u001b[39;49m\u001b[39m/\u001b[39;49m \u001b[39m2\u001b[39;49m, g), g)\n\u001b[1;32m    115\u001b[0m \u001b[39melse\u001b[39;00m:\n\u001b[1;32m    116\u001b[0m     \u001b[39mreturn\u001b[39;00m prodG_(a, expG_(a, n \u001b[39m-\u001b[39m \u001b[39m1\u001b[39m, g), g)\n",
      "File \u001b[0;32m~/Documents/uni/TCI/src/utilsG.py:114\u001b[0m, in \u001b[0;36mexpG_\u001b[0;34m(a, n, g)\u001b[0m\n\u001b[1;32m    112\u001b[0m     \u001b[39mreturn\u001b[39;00m a\n\u001b[1;32m    113\u001b[0m \u001b[39mif\u001b[39;00m n \u001b[39m%\u001b[39m \u001b[39m2\u001b[39m \u001b[39m==\u001b[39m \u001b[39m0\u001b[39m:\n\u001b[0;32m--> 114\u001b[0m     \u001b[39mreturn\u001b[39;00m prodG_(expG_(a, n \u001b[39m/\u001b[39;49m\u001b[39m/\u001b[39;49m \u001b[39m2\u001b[39;49m, g), expG_(a, n \u001b[39m/\u001b[39m\u001b[39m/\u001b[39m \u001b[39m2\u001b[39m, g), g)\n\u001b[1;32m    115\u001b[0m \u001b[39melse\u001b[39;00m:\n\u001b[1;32m    116\u001b[0m     \u001b[39mreturn\u001b[39;00m prodG_(a, expG_(a, n \u001b[39m-\u001b[39m \u001b[39m1\u001b[39m, g), g)\n",
      "    \u001b[0;31m[... skipping similar frames: expG_ at line 114 (1 times)]\u001b[0m\n",
      "File \u001b[0;32m~/Documents/uni/TCI/src/utilsG.py:114\u001b[0m, in \u001b[0;36mexpG_\u001b[0;34m(a, n, g)\u001b[0m\n\u001b[1;32m    112\u001b[0m     \u001b[39mreturn\u001b[39;00m a\n\u001b[1;32m    113\u001b[0m \u001b[39mif\u001b[39;00m n \u001b[39m%\u001b[39m \u001b[39m2\u001b[39m \u001b[39m==\u001b[39m \u001b[39m0\u001b[39m:\n\u001b[0;32m--> 114\u001b[0m     \u001b[39mreturn\u001b[39;00m prodG_(expG_(a, n \u001b[39m/\u001b[39;49m\u001b[39m/\u001b[39;49m \u001b[39m2\u001b[39;49m, g), expG_(a, n \u001b[39m/\u001b[39m\u001b[39m/\u001b[39m \u001b[39m2\u001b[39m, g), g)\n\u001b[1;32m    115\u001b[0m \u001b[39melse\u001b[39;00m:\n\u001b[1;32m    116\u001b[0m     \u001b[39mreturn\u001b[39;00m prodG_(a, expG_(a, n \u001b[39m-\u001b[39m \u001b[39m1\u001b[39m, g), g)\n",
      "File \u001b[0;32m~/Documents/uni/TCI/src/utilsG.py:116\u001b[0m, in \u001b[0;36mexpG_\u001b[0;34m(a, n, g)\u001b[0m\n\u001b[1;32m    114\u001b[0m     \u001b[39mreturn\u001b[39;00m prodG_(expG_(a, n \u001b[39m/\u001b[39m\u001b[39m/\u001b[39m \u001b[39m2\u001b[39m, g), expG_(a, n \u001b[39m/\u001b[39m\u001b[39m/\u001b[39m \u001b[39m2\u001b[39m, g), g)\n\u001b[1;32m    115\u001b[0m \u001b[39melse\u001b[39;00m:\n\u001b[0;32m--> 116\u001b[0m     \u001b[39mreturn\u001b[39;00m prodG_(a, expG_(a, n \u001b[39m-\u001b[39;49m \u001b[39m1\u001b[39;49m, g), g)\n",
      "File \u001b[0;32m~/Documents/uni/TCI/src/utilsG.py:114\u001b[0m, in \u001b[0;36mexpG_\u001b[0;34m(a, n, g)\u001b[0m\n\u001b[1;32m    112\u001b[0m     \u001b[39mreturn\u001b[39;00m a\n\u001b[1;32m    113\u001b[0m \u001b[39mif\u001b[39;00m n \u001b[39m%\u001b[39m \u001b[39m2\u001b[39m \u001b[39m==\u001b[39m \u001b[39m0\u001b[39m:\n\u001b[0;32m--> 114\u001b[0m     \u001b[39mreturn\u001b[39;00m prodG_(expG_(a, n \u001b[39m/\u001b[39;49m\u001b[39m/\u001b[39;49m \u001b[39m2\u001b[39;49m, g), expG_(a, n \u001b[39m/\u001b[39m\u001b[39m/\u001b[39m \u001b[39m2\u001b[39m, g), g)\n\u001b[1;32m    115\u001b[0m \u001b[39melse\u001b[39;00m:\n\u001b[1;32m    116\u001b[0m     \u001b[39mreturn\u001b[39;00m prodG_(a, expG_(a, n \u001b[39m-\u001b[39m \u001b[39m1\u001b[39m, g), g)\n",
      "File \u001b[0;32m~/Documents/uni/TCI/src/utilsG.py:114\u001b[0m, in \u001b[0;36mexpG_\u001b[0;34m(a, n, g)\u001b[0m\n\u001b[1;32m    112\u001b[0m     \u001b[39mreturn\u001b[39;00m a\n\u001b[1;32m    113\u001b[0m \u001b[39mif\u001b[39;00m n \u001b[39m%\u001b[39m \u001b[39m2\u001b[39m \u001b[39m==\u001b[39m \u001b[39m0\u001b[39m:\n\u001b[0;32m--> 114\u001b[0m     \u001b[39mreturn\u001b[39;00m prodG_(expG_(a, n \u001b[39m/\u001b[39m\u001b[39m/\u001b[39m \u001b[39m2\u001b[39m, g), expG_(a, n \u001b[39m/\u001b[39;49m\u001b[39m/\u001b[39;49m \u001b[39m2\u001b[39;49m, g), g)\n\u001b[1;32m    115\u001b[0m \u001b[39melse\u001b[39;00m:\n\u001b[1;32m    116\u001b[0m     \u001b[39mreturn\u001b[39;00m prodG_(a, expG_(a, n \u001b[39m-\u001b[39m \u001b[39m1\u001b[39m, g), g)\n",
      "    \u001b[0;31m[... skipping similar frames: expG_ at line 114 (1 times)]\u001b[0m\n",
      "File \u001b[0;32m~/Documents/uni/TCI/src/utilsG.py:114\u001b[0m, in \u001b[0;36mexpG_\u001b[0;34m(a, n, g)\u001b[0m\n\u001b[1;32m    112\u001b[0m     \u001b[39mreturn\u001b[39;00m a\n\u001b[1;32m    113\u001b[0m \u001b[39mif\u001b[39;00m n \u001b[39m%\u001b[39m \u001b[39m2\u001b[39m \u001b[39m==\u001b[39m \u001b[39m0\u001b[39m:\n\u001b[0;32m--> 114\u001b[0m     \u001b[39mreturn\u001b[39;00m prodG_(expG_(a, n \u001b[39m/\u001b[39;49m\u001b[39m/\u001b[39;49m \u001b[39m2\u001b[39;49m, g), expG_(a, n \u001b[39m/\u001b[39;49m\u001b[39m/\u001b[39;49m \u001b[39m2\u001b[39;49m, g), g)\n\u001b[1;32m    115\u001b[0m \u001b[39melse\u001b[39;00m:\n\u001b[1;32m    116\u001b[0m     \u001b[39mreturn\u001b[39;00m prodG_(a, expG_(a, n \u001b[39m-\u001b[39m \u001b[39m1\u001b[39m, g), g)\n",
      "File \u001b[0;32m~/Documents/uni/TCI/src/utilsG.py:37\u001b[0m, in \u001b[0;36mproxy.<locals>.wrapper\u001b[0;34m(*args)\u001b[0m\n\u001b[1;32m     35\u001b[0m \u001b[39mdef\u001b[39;00m \u001b[39mwrapper\u001b[39m(\u001b[39m*\u001b[39margs):\n\u001b[1;32m     36\u001b[0m     args \u001b[39m=\u001b[39m \u001b[39mlist\u001b[39m(\u001b[39mmap\u001b[39m(\u001b[39mlambda\u001b[39;00m x: toPoly(deepcopy(x)), args))\n\u001b[0;32m---> 37\u001b[0m     \u001b[39mreturn\u001b[39;00m func(\u001b[39m*\u001b[39;49margs)\n",
      "File \u001b[0;32m~/Documents/uni/TCI/src/utilsG.py:100\u001b[0m, in \u001b[0;36mprodG_\u001b[0;34m(a, b, g)\u001b[0m\n\u001b[1;32m     98\u001b[0m \u001b[39m@proxy\u001b[39m\n\u001b[1;32m     99\u001b[0m \u001b[39mdef\u001b[39;00m \u001b[39mprodG_\u001b[39m(a, b, g):\n\u001b[0;32m--> 100\u001b[0m     \u001b[39mreturn\u001b[39;00m div_(prod_(a, b), g)[\u001b[39m1\u001b[39m]\n",
      "File \u001b[0;32m~/Documents/uni/TCI/src/utilsG.py:37\u001b[0m, in \u001b[0;36mproxy.<locals>.wrapper\u001b[0;34m(*args)\u001b[0m\n\u001b[1;32m     35\u001b[0m \u001b[39mdef\u001b[39;00m \u001b[39mwrapper\u001b[39m(\u001b[39m*\u001b[39margs):\n\u001b[1;32m     36\u001b[0m     args \u001b[39m=\u001b[39m \u001b[39mlist\u001b[39m(\u001b[39mmap\u001b[39m(\u001b[39mlambda\u001b[39;00m x: toPoly(deepcopy(x)), args))\n\u001b[0;32m---> 37\u001b[0m     \u001b[39mreturn\u001b[39;00m func(\u001b[39m*\u001b[39;49margs)\n",
      "File \u001b[0;32m~/Documents/uni/TCI/src/utilsG.py:80\u001b[0m, in \u001b[0;36mdiv_\u001b[0;34m(a, b)\u001b[0m\n\u001b[1;32m     78\u001b[0m grade \u001b[39m=\u001b[39m \u001b[39mlen\u001b[39m(a) \u001b[39m-\u001b[39m \u001b[39mlen\u001b[39m(b)\n\u001b[1;32m     79\u001b[0m multiplicand \u001b[39m=\u001b[39m [\u001b[39m1\u001b[39m] \u001b[39m+\u001b[39m [\u001b[39m0\u001b[39m] \u001b[39m*\u001b[39m grade\n\u001b[0;32m---> 80\u001b[0m p \u001b[39m=\u001b[39m prod_(b, multiplicand)\n\u001b[1;32m     81\u001b[0m a \u001b[39m=\u001b[39m sum_(p, a)\n\u001b[1;32m     82\u001b[0m quotient \u001b[39m=\u001b[39m sum_(quotient, multiplicand)\n",
      "File \u001b[0;32m~/Documents/uni/TCI/src/utilsG.py:37\u001b[0m, in \u001b[0;36mproxy.<locals>.wrapper\u001b[0;34m(*args)\u001b[0m\n\u001b[1;32m     35\u001b[0m \u001b[39mdef\u001b[39;00m \u001b[39mwrapper\u001b[39m(\u001b[39m*\u001b[39margs):\n\u001b[1;32m     36\u001b[0m     args \u001b[39m=\u001b[39m \u001b[39mlist\u001b[39m(\u001b[39mmap\u001b[39m(\u001b[39mlambda\u001b[39;00m x: toPoly(deepcopy(x)), args))\n\u001b[0;32m---> 37\u001b[0m     \u001b[39mreturn\u001b[39;00m func(\u001b[39m*\u001b[39;49margs)\n",
      "File \u001b[0;32m~/Documents/uni/TCI/src/utilsG.py:68\u001b[0m, in \u001b[0;36mprod_\u001b[0;34m(a, b)\u001b[0m\n\u001b[1;32m     66\u001b[0m     \u001b[39mif\u001b[39;00m a[i] \u001b[39m==\u001b[39m \u001b[39m1\u001b[39m:\n\u001b[1;32m     67\u001b[0m         results\u001b[39m.\u001b[39mappend(b \u001b[39m+\u001b[39m [\u001b[39m0\u001b[39m] \u001b[39m*\u001b[39m i)\n\u001b[0;32m---> 68\u001b[0m res \u001b[39m=\u001b[39m reduce(\u001b[39mlambda\u001b[39;49;00m x, y: sum_(x, y), results, [])\n\u001b[1;32m     69\u001b[0m \u001b[39mreturn\u001b[39;00m res\n",
      "File \u001b[0;32m~/Documents/uni/TCI/src/utilsG.py:68\u001b[0m, in \u001b[0;36mprod_.<locals>.<lambda>\u001b[0;34m(x, y)\u001b[0m\n\u001b[1;32m     66\u001b[0m     \u001b[39mif\u001b[39;00m a[i] \u001b[39m==\u001b[39m \u001b[39m1\u001b[39m:\n\u001b[1;32m     67\u001b[0m         results\u001b[39m.\u001b[39mappend(b \u001b[39m+\u001b[39m [\u001b[39m0\u001b[39m] \u001b[39m*\u001b[39m i)\n\u001b[0;32m---> 68\u001b[0m res \u001b[39m=\u001b[39m reduce(\u001b[39mlambda\u001b[39;00m x, y: sum_(x, y), results, [])\n\u001b[1;32m     69\u001b[0m \u001b[39mreturn\u001b[39;00m res\n",
      "File \u001b[0;32m~/Documents/uni/TCI/src/utilsG.py:36\u001b[0m, in \u001b[0;36mproxy.<locals>.wrapper\u001b[0;34m(*args)\u001b[0m\n\u001b[1;32m     35\u001b[0m \u001b[39mdef\u001b[39;00m \u001b[39mwrapper\u001b[39m(\u001b[39m*\u001b[39margs):\n\u001b[0;32m---> 36\u001b[0m     args \u001b[39m=\u001b[39m \u001b[39mlist\u001b[39m(\u001b[39mmap\u001b[39m(\u001b[39mlambda\u001b[39;00m x: toPoly(deepcopy(x)), args))\n\u001b[1;32m     37\u001b[0m     \u001b[39mreturn\u001b[39;00m func(\u001b[39m*\u001b[39margs)\n",
      "File \u001b[0;32m~/Documents/uni/TCI/src/utilsG.py:36\u001b[0m, in \u001b[0;36mproxy.<locals>.wrapper.<locals>.<lambda>\u001b[0;34m(x)\u001b[0m\n\u001b[1;32m     35\u001b[0m \u001b[39mdef\u001b[39;00m \u001b[39mwrapper\u001b[39m(\u001b[39m*\u001b[39margs):\n\u001b[0;32m---> 36\u001b[0m     args \u001b[39m=\u001b[39m \u001b[39mlist\u001b[39m(\u001b[39mmap\u001b[39m(\u001b[39mlambda\u001b[39;00m x: toPoly(deepcopy(x)), args))\n\u001b[1;32m     37\u001b[0m     \u001b[39mreturn\u001b[39;00m func(\u001b[39m*\u001b[39margs)\n",
      "File \u001b[0;32m/opt/homebrew/Cellar/python@3.11/3.11.4_1/Frameworks/Python.framework/Versions/3.11/lib/python3.11/copy.py:137\u001b[0m, in \u001b[0;36mdeepcopy\u001b[0;34m(x, memo, _nil)\u001b[0m\n\u001b[1;32m    134\u001b[0m \u001b[39mif\u001b[39;00m memo \u001b[39mis\u001b[39;00m \u001b[39mNone\u001b[39;00m:\n\u001b[1;32m    135\u001b[0m     memo \u001b[39m=\u001b[39m {}\n\u001b[0;32m--> 137\u001b[0m d \u001b[39m=\u001b[39m \u001b[39mid\u001b[39m(x)\n\u001b[1;32m    138\u001b[0m y \u001b[39m=\u001b[39m memo\u001b[39m.\u001b[39mget(d, _nil)\n\u001b[1;32m    139\u001b[0m \u001b[39mif\u001b[39;00m y \u001b[39mis\u001b[39;00m \u001b[39mnot\u001b[39;00m _nil:\n",
      "\u001b[0;31mKeyboardInterrupt\u001b[0m: "
     ]
    }
   ],
   "source": [
    "positions = [utilsG.logG(z, beta, modulus) for z in lz] # ??"
   ]
  },
  {
   "cell_type": "code",
   "execution_count": null,
   "metadata": {},
   "outputs": [],
   "source": [
    "positions"
   ]
  },
  {
   "cell_type": "code",
   "execution_count": 7,
   "metadata": {},
   "outputs": [],
   "source": [
    "dl = rs.derivate(l)"
   ]
  },
  {
   "cell_type": "code",
   "execution_count": 11,
   "metadata": {},
   "outputs": [
    {
     "name": "stdout",
     "output_type": "stream",
     "text": [
      "wi:  1006\n",
      "dli:  252\n",
      "wi:  56\n",
      "dli:  469\n",
      "wi:  810\n",
      "dli:  223\n",
      "wi:  810\n",
      "dli:  223\n",
      "wi:  56\n",
      "dli:  469\n",
      "wi:  1006\n",
      "dli:  252\n"
     ]
    }
   ],
   "source": [
    "e = [0] * n\n",
    "for (index, position) in enumerate(positions):\n",
    "  wi = rs.subsP(lz[index], w, modulus)\n",
    "  dli = rs.subsP(lz[index], dl, modulus)\n",
    "  print(\"wi: \", wi)\n",
    "  print(\"dli: \", dli)\n",
    "  e[position] = utilsG.div(wi, dli)[1]"
   ]
  },
  {
   "cell_type": "code",
   "execution_count": 12,
   "metadata": {},
   "outputs": [
    {
     "data": {
      "text/plain": [
       "[30, 56, 86, 86, 56, 30]"
      ]
     },
     "execution_count": 12,
     "metadata": {},
     "output_type": "execute_result"
    }
   ],
   "source": [
    "e"
   ]
  },
  {
   "cell_type": "code",
   "execution_count": 4,
   "metadata": {},
   "outputs": [],
   "source": [
    "### z = B^-i (on i es la posicio del error)"
   ]
  }
 ],
 "metadata": {
  "kernelspec": {
   "display_name": "Python 3",
   "language": "python",
   "name": "python3"
  },
  "language_info": {
   "codemirror_mode": {
    "name": "ipython",
    "version": 3
   },
   "file_extension": ".py",
   "mimetype": "text/x-python",
   "name": "python",
   "nbconvert_exporter": "python",
   "pygments_lexer": "ipython3",
   "version": "3.11.4"
  }
 },
 "nbformat": 4,
 "nbformat_minor": 2
}
