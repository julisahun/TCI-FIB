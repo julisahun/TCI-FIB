{
 "cells": [
  {
   "cell_type": "code",
   "execution_count": 93,
   "metadata": {},
   "outputs": [],
   "source": [
    "from functools import reduce"
   ]
  },
  {
   "cell_type": "code",
   "execution_count": 111,
   "metadata": {},
   "outputs": [],
   "source": [
    "def toNum(p):\n",
    "  if type(p) == int:\n",
    "    return p\n",
    "  if p == []: \n",
    "    return 0\n",
    "  return int(''.join(map(str, p)), 2)\n",
    "\n",
    "def toPoly(n):\n",
    "  if type(n) == list:\n",
    "    return n\n",
    "  if type(n) == str:\n",
    "    return list(map(lambda x: int(x), n))\n",
    "  return list(map(lambda x: int(x), bin(n)[2:]))\n",
    "\n",
    "def toStr(p):\n",
    "  p = toPoly(p)\n",
    "  return ''.join(map(str, p))\n",
    "\n",
    "def red(p):\n",
    "  while(len(p) and p[0] == 0):\n",
    "    p.pop(0)\n",
    "  return p"
   ]
  },
  {
   "cell_type": "code",
   "execution_count": 122,
   "metadata": {},
   "outputs": [],
   "source": [
    "def sum(a, b):\n",
    "  a = toPoly(a)\n",
    "  b = toPoly(b)\n",
    "  a.reverse()\n",
    "  b.reverse()\n",
    "  if (len(a) < len(b)):\n",
    "    a, b = b, a\n",
    "  res = []\n",
    "  for i in range(len(a)):\n",
    "    if i >= len(b):\n",
    "      res.append(a[i])\n",
    "    else:\n",
    "      res.append(a[i] + b[i])\n",
    "  res.reverse()\n",
    "  return red(list(map(lambda x: x % 2, res)))\n",
    "  \n",
    "def prod(a,b):\n",
    "  if a == 0 or b == 0:\n",
    "    return 0\n",
    "  a = toPoly(a)\n",
    "  b = toPoly(b)\n",
    "  a.reverse()\n",
    "  results = []\n",
    "  for i in range(len(a)):\n",
    "    if a[i] == 1:\n",
    "      results.append(b + [0] * i)\n",
    "  res = reduce(lambda x,y: sum(x,y), results, [])\n",
    "  return res\n",
    "  \n",
    "\n",
    "def gt(a,b):\n",
    "  if len(a) != len(b):\n",
    "    return len(a) > len(b)\n",
    "  for i in range(len(a)):\n",
    "    if a[i] != b[i]:\n",
    "      return a[i] > b[i]\n",
    "\n",
    "\n",
    "def div(a, b): \n",
    "  bin_a = toPoly(a)\n",
    "  bin_b = toPoly(b)\n",
    "  res = []\n",
    "  if (gt(bin_b, bin_a)):\n",
    "    return(0, a)\n",
    "  while(gt(bin_a, bin_b)):\n",
    "    grade = len(bin_a) - len(bin_b)\n",
    "    q = [1] + [0] * grade\n",
    "    r = prod(bin_b, q)\n",
    "    bin_a = sum(r, bin_a)\n",
    "    res = sum(res, q)\n",
    "    red(bin_a)\n",
    "  return (res, bin_a)\n",
    "  "
   ]
  },
  {
   "cell_type": "code",
   "execution_count": 113,
   "metadata": {},
   "outputs": [
    {
     "data": {
      "text/plain": [
       "True"
      ]
     },
     "execution_count": 113,
     "metadata": {},
     "output_type": "execute_result"
    }
   ],
   "source": [
    "a, b = 242124, 123421\n",
    "\n",
    "q, r = div(a, b)\n",
    "q = toNum(q)\n",
    "r = toNum(r)\n",
    "toNum(sum(prod(q, b), r)) == a"
   ]
  },
  {
   "cell_type": "markdown",
   "metadata": {},
   "source": [
    "# Test"
   ]
  },
  {
   "cell_type": "code",
   "execution_count": 128,
   "metadata": {},
   "outputs": [
    {
     "name": "stdout",
     "output_type": "stream",
     "text": [
      "running product tests...\n",
      "commutative test passed\n",
      "associative test passed\n",
      "zero test passed\n",
      "one test passed\n",
      "product tests passed\n",
      "\n",
      "running div tests...\n",
      "division test passed\n"
     ]
    }
   ],
   "source": [
    "import random \n",
    "\n",
    "print('running product tests...')\n",
    "a, b = random.randint(1,10000), random.randint(1,10000)\n",
    "res = prod(a, b) == prod(b, a)\n",
    "print(f'commutative test { \"passed\" if res else \"failed\"}')\n",
    "res = prod(a, prod(b, a)) == prod(prod(a, b), a)\n",
    "print(f'associative test { \"passed\" if res else \"failed\"}')\n",
    "res = prod(a, 0) == 0\n",
    "print(f'zero test { \"passed\" if res else \"failed\"}')\n",
    "res = prod(a, 1) == toPoly(a)\n",
    "print(f'one test { \"passed\" if res else \"failed\"}')\n",
    "print('product tests passed')\n",
    "print()\n",
    "print('running div tests...')\n",
    "a, b = 1234, 4321\n",
    "q, r = div(a, b)\n",
    "res = toNum(sum(prod(q, b), r)) == a\n",
    "print(f'division test { \"passed\" if res else \"failed\"}')"
   ]
  }
 ],
 "metadata": {
  "kernelspec": {
   "display_name": "Python 3",
   "language": "python",
   "name": "python3"
  },
  "language_info": {
   "codemirror_mode": {
    "name": "ipython",
    "version": 3
   },
   "file_extension": ".py",
   "mimetype": "text/x-python",
   "name": "python",
   "nbconvert_exporter": "python",
   "pygments_lexer": "ipython3",
   "version": "3.11.4"
  },
  "orig_nbformat": 4
 },
 "nbformat": 4,
 "nbformat_minor": 2
}
