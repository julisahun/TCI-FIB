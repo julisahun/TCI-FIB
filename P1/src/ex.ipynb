{
 "cells": [
  {
   "cell_type": "code",
   "execution_count": null,
   "metadata": {},
   "outputs": [],
   "source": [
    "import problem1 as p"
   ]
  },
  {
   "cell_type": "code",
   "execution_count": null,
   "metadata": {},
   "outputs": [],
   "source": [
    "g = 313\n",
    "x = 2\n",
    "r = 8\n",
    "n = 17\n",
    "d = n - 8"
   ]
  },
  {
   "cell_type": "code",
   "execution_count": null,
   "metadata": {},
   "outputs": [],
   "source": [
    "def findOneError(syndrome):\n",
    "  for i in range(1, n):\n",
    "    if (p.div(pow(x, i), g)[1] == syndrome):\n",
    "      return pow(x, i)\n",
    "    \n",
    "def findTwoError(syndrome):\n",
    "  for i in range(1, n):\n",
    "    for j in range(1, n):\n",
    "      if i == j:\n",
    "        # Case i == j is covered by findOneError\n",
    "        continue\n",
    "      offset = p.sum_(pow(x, i), pow(x, j))\n",
    "      if p.div(offset, g)[1] == syndrome:\n",
    "        return offset\n",
    "      \n",
    "def findError(syndrome):\n",
    "  if (syndrome == 0):\n",
    "    # No error\n",
    "    return 0\n",
    "  return findOneError(syndrome) or findTwoError(syndrome)\n"
   ]
  },
  {
   "cell_type": "markdown",
   "metadata": {},
   "source": [
    "# 5"
   ]
  },
  {
   "cell_type": "code",
   "execution_count": null,
   "metadata": {},
   "outputs": [],
   "source": [
    "m = 876\n",
    "\n",
    "print(p.prod(m, g)) #208716"
   ]
  },
  {
   "cell_type": "markdown",
   "metadata": {},
   "source": [
    "\n",
    "# 6"
   ]
  },
  {
   "cell_type": "code",
   "execution_count": null,
   "metadata": {},
   "outputs": [],
   "source": [
    "y = 28787\n",
    "print(p.div(y, g)[0]) # 123"
   ]
  },
  {
   "cell_type": "markdown",
   "metadata": {},
   "source": [
    "# 7"
   ]
  },
  {
   "cell_type": "code",
   "execution_count": null,
   "metadata": {},
   "outputs": [],
   "source": [
    "m = 700\n",
    "\n",
    "ax = p.div(p.prod(pow(x, r), m), g)[1]\n",
    "\n",
    "print(p.toNum(p.sum_(p.prod(pow(x, r), m), ax)))\n"
   ]
  },
  {
   "cell_type": "markdown",
   "metadata": {},
   "source": [
    "# 8"
   ]
  },
  {
   "cell_type": "code",
   "execution_count": null,
   "metadata": {},
   "outputs": [],
   "source": [
    "y = 155555\n",
    "syndrome = p.div(y, g)[1] != 0\n",
    "error = findError(syndrome)\n",
    "\n",
    "poly = p.toPoly(y)\n",
    "m = p.toNum(poly[0:d])\n",
    "print(m)"
   ]
  },
  {
   "cell_type": "markdown",
   "metadata": {},
   "source": [
    "# 9"
   ]
  },
  {
   "cell_type": "code",
   "execution_count": null,
   "metadata": {},
   "outputs": [],
   "source": [
    "y = 228383\n",
    "syndrome = p.div(y, g)[1]\n",
    "error = findError(syndrome)\n",
    "\n",
    "y = p.sum_(y, error)\n",
    "poly = p.toPoly(y)\n",
    "m = p.toNum(poly[0:d])\n",
    "print(m)"
   ]
  },
  {
   "cell_type": "markdown",
   "metadata": {},
   "source": [
    "# 10"
   ]
  },
  {
   "cell_type": "code",
   "execution_count": null,
   "metadata": {},
   "outputs": [],
   "source": [
    "y = 215509\n",
    "syndrome = p.div(y, g)[1]\n",
    "\n",
    "error = findError(syndrome)\n",
    "\n",
    "y = p.sum_(y, error)\n",
    "poly = p.toPoly(y)\n",
    "m = p.toNum(poly[0:d])\n",
    "print(m)"
   ]
  }
 ],
 "metadata": {
  "kernelspec": {
   "display_name": "Python 3",
   "language": "python",
   "name": "python3"
  },
  "language_info": {
   "codemirror_mode": {
    "name": "ipython",
    "version": 3
   },
   "file_extension": ".py",
   "mimetype": "text/x-python",
   "name": "python",
   "nbconvert_exporter": "python",
   "pygments_lexer": "ipython3",
   "version": "3.11.4"
  }
 },
 "nbformat": 4,
 "nbformat_minor": 2
}
